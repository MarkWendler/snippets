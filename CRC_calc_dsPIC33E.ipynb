{
 "cells": [
  {
   "cell_type": "markdown",
   "metadata": {},
   "source": [
    "## Python script to generate CRC for dsPIC33E flash\n",
    "\n",
    "### Summary\n",
    "The dsPIC uses 24bit (3bytes) wide instructions. The XC16 compiler generated HEX files are following INTEL byte standard and puts \"phantom\" 00 bytes to the 4th place. However the Microchip classB library CRC function *CLASSB_CRCFlashTest* does not calulate the phantom byte. (To save some calculation time.) Therefore most of the CRC calculators on the PC side just does not have proper configurability to give the same result as the ClassB library.\n",
    "\n",
    "The below script calculates the CRC according the Microchip ClassB library implementation.\n",
    "\n",
    "#### Readings:\n",
    "* Microchip ClassB: https://www.microchip.com/design-centers/home-appliance/class-b-safety-software\n",
    "* dsPIC33 architecture: https://microchipdeveloper.com/dsp0201:dspic-dsc-architecture-review\n",
    "* INTEL HEX format: https://en.wikipedia.org/wiki/Intel_HEX\n",
    "\n",
    "### Install dependencies\n",
    "First install crcmod if needed:\n",
    "* *pip install crcmod*\n",
    "* *pip install intelhex*\n",
    "### Contact\n",
    "mark.wendler@microchip.com"
   ]
  },
  {
   "cell_type": "markdown",
   "metadata": {},
   "source": [
    "Create CRC calculator function according to the default ClassB CRC calculation function. (Polynomal is 0x8005 by default in Microchip implementation)"
   ]
  },
  {
   "cell_type": "code",
   "execution_count": 1,
   "metadata": {},
   "outputs": [],
   "source": [
    "import crcmod\n",
    "crc16_func = crcmod.mkCrcFun(0x18005, rev=False, initCrc=0xFFFF, xorOut=0x0000)"
   ]
  },
  {
   "cell_type": "markdown",
   "metadata": {},
   "source": [
    "Just a short test to verify crccalc functionality"
   ]
  },
  {
   "cell_type": "code",
   "execution_count": 2,
   "metadata": {},
   "outputs": [
    {
     "data": {
      "text/plain": [
       "'0x380'"
      ]
     },
     "execution_count": 2,
     "metadata": {},
     "output_type": "execute_result"
    }
   ],
   "source": [
    "word24bitIn = bytearray((0xe0, 0x00 , 0x00));\n",
    "\n",
    "result = crc16_func(word24bitIn);\n",
    "\n",
    "hex(result)"
   ]
  },
  {
   "cell_type": "markdown",
   "metadata": {},
   "source": [
    "Install intelHex if needed: pip install intelhex"
   ]
  },
  {
   "cell_type": "code",
   "execution_count": 3,
   "metadata": {},
   "outputs": [],
   "source": [
    "from intelhex import IntelHex16bit #Load intelHex\n",
    "ih = IntelHex16bit(\"../input.hex\") #Open file"
   ]
  },
  {
   "cell_type": "markdown",
   "metadata": {},
   "source": [
    "Create a function to extract hex file and format the data as crc calc requires."
   ]
  },
  {
   "cell_type": "code",
   "execution_count": 4,
   "metadata": {},
   "outputs": [],
   "source": [
    "def ExtractHexData(baseAddr, length, intelHex):\n",
    "    \"\"\"Rearrange memory map from intelHex to byte array: [Upper,Higher,Lower,Upper,Higher,Lower] This format can be used then for CRC calculation\n",
    "\n",
    "    Args:\n",
    "        baseAddr (int): Starting address to extract from hex file (dsPIC program counter address)\n",
    "        length   (int): The length address of the tested flash memory in program counter units\n",
    "        intelHex (IntelHex16bit): Extracted data from hex by the IntelHex module.\n",
    "    Returns:\n",
    "        bytearray: extraced byte array data, prepared for CRC calculation\n",
    "    \"\"\"    \n",
    "    assert (baseAddr % 2) == 0,\"Base address must be even. See dsPIC architecture program counter. See dsPIC architecture and classB lib CRC documentation.\"\n",
    "    assert (length % 2) == 0,\"Length must be specified as program counter's length. So must be multiple of 2. See dsPIC architecture and classB lib CRC documentation.\"\n",
    "\n",
    "    byteLength = length + length//2 #Convert dsPIC program counts to byte count (24bit)\n",
    "    print(\"ByteLength:\", byteLength)\n",
    "    crcInput = bytearray(byteLength) \n",
    "    byteAddr = 0;\n",
    "\n",
    "    for addr in range(length): # Convert data according to the ClassB CRC implementation\n",
    "\n",
    "        #check upper or higher,lower address [Upper,Higher,Lower => program word of dsPIC]\n",
    "        if (addr % 2) == 0: #even means Higher and lower\n",
    "            crcInput[byteAddr+1] = (intelHex[baseAddr + addr] >> 8 )& 0xFF;    #Get Higher\n",
    "            crcInput[byteAddr+2] = intelHex[baseAddr + addr] & 0xFF; #Get Lower\n",
    "\n",
    "            #print(\"Addr:\", hex(baseAddr+addr), \"Higher:\", crcInput[byteAddr+1], \"Lower:\", crcInput[byteAddr+2])\n",
    "\n",
    "        else: # odd addres mean Upper byte\n",
    "            crcInput[byteAddr] = intelHex[baseAddr + addr]; \n",
    "            #print(\"Addr:\", hex(baseAddr+addr), \"Upper:\", crcInput[byteAddr])\n",
    "            byteAddr = byteAddr+3 #increase byteAddress as this was the \n",
    "        \n",
    "    \n",
    "    return crcInput"
   ]
  },
  {
   "cell_type": "markdown",
   "metadata": {},
   "source": [
    "Finally calculate the CRC for the required range"
   ]
  },
  {
   "cell_type": "code",
   "execution_count": 5,
   "metadata": {},
   "outputs": [
    {
     "name": "stdout",
     "output_type": "stream",
     "text": [
      "ByteLength: 6\n",
      "CRC Result: 0x83d1\n"
     ]
    }
   ],
   "source": [
    "crcInput = ExtractHexData(0x250,0x4,ih)\n",
    "crcResult = crc16_func(crcInput)\n",
    "print(\"CRC Result:\", hex(crcResult))"
   ]
  },
  {
   "cell_type": "markdown",
   "metadata": {},
   "source": [
    "------------------ Utilities -----------------------------"
   ]
  },
  {
   "cell_type": "code",
   "execution_count": 6,
   "metadata": {},
   "outputs": [
    {
     "name": "stdout",
     "output_type": "stream",
     "text": [
      "Looking for result: 3418807364 for data 0...15: [0, 1, 2, 3, 4, 5, 6, 7, 8, 9, 10, 11, 12, 13, 14, 15]\n",
      "Polygon: 0x04C11DB7\n",
      " 1) 0x403093EF     →    crcmod.mkCrcFun(poly=0x104C11DB7, initCrc=0x544F4F42, rev=False, xorOut=0x00000000)\n",
      " 2) 0xEAE24ED8     →    crcmod.mkCrcFun(poly=0x104C11DB7, initCrc=0x544F4F42, rev=False, xorOut=0xFFFFFFFF)\n",
      " 3) 0xCBC6DC44     →    crcmod.mkCrcFun(poly=0x104C11DB7, initCrc=0x544F4F42, rev=True, xorOut=0x00000000)  ✓\n",
      " 4) 0x277D9711     →    crcmod.mkCrcFun(poly=0x104C11DB7, initCrc=0x544F4F42, rev=True, xorOut=0xFFFFFFFF)\n",
      " 5) 0x151DB127     →    crcmod.mkCrcFun(poly=0x104C11DB7, initCrc=0xABB0B0BD, rev=False, xorOut=0x00000000)\n",
      " 6) 0xBFCF6C10     →    crcmod.mkCrcFun(poly=0x104C11DB7, initCrc=0xABB0B0BD, rev=False, xorOut=0xFFFFFFFF)\n",
      " 7) 0xD88268EE     →    crcmod.mkCrcFun(poly=0x104C11DB7, initCrc=0xABB0B0BD, rev=True, xorOut=0x00000000)\n",
      " 8) 0x343923BB     →    crcmod.mkCrcFun(poly=0x104C11DB7, initCrc=0xABB0B0BD, rev=True, xorOut=0xFFFFFFFF)\n",
      "Refelcted polygon: 0xEDB88320\n",
      " 9) 0xA66A4340     →    crcmod.mkCrcFun(poly=0x1EDB88320, initCrc=0x544F4F42, rev=False, xorOut=0x00000000)\n",
      "10) 0x4C22EF5F     →    crcmod.mkCrcFun(poly=0x1EDB88320, initCrc=0x544F4F42, rev=False, xorOut=0xFFFFFFFF)\n",
      "11) 0x075D2BA5     →    crcmod.mkCrcFun(poly=0x1EDB88320, initCrc=0x544F4F42, rev=True, xorOut=0x00000000)\n",
      "12) 0xFF6839F2     →    crcmod.mkCrcFun(poly=0x1EDB88320, initCrc=0x544F4F42, rev=True, xorOut=0xFFFFFFFF)\n",
      "13) 0xB3DD10A0     →    crcmod.mkCrcFun(poly=0x1EDB88320, initCrc=0xABB0B0BD, rev=False, xorOut=0x00000000)\n",
      "14) 0x5995BCBF     →    crcmod.mkCrcFun(poly=0x1EDB88320, initCrc=0xABB0B0BD, rev=False, xorOut=0xFFFFFFFF)\n",
      "15) 0x0097C60D     →    crcmod.mkCrcFun(poly=0x1EDB88320, initCrc=0xABB0B0BD, rev=True, xorOut=0x00000000)\n",
      "16) 0xF8A2D45A     →    crcmod.mkCrcFun(poly=0x1EDB88320, initCrc=0xABB0B0BD, rev=True, xorOut=0xFFFFFFFF)\n"
     ]
    }
   ],
   "source": [
    "# Find crcmod settings\n",
    "counter = 1\n",
    "\n",
    "def reverse_mask(x):\n",
    "    x = ((x & 0x55555555) << 1) | ((x & 0xAAAAAAAA) >> 1)\n",
    "    x = ((x & 0x33333333) << 2) | ((x & 0xCCCCCCCC) >> 2)\n",
    "    x = ((x & 0x0F0F0F0F) << 4) | ((x & 0xF0F0F0F0) >> 4)\n",
    "    x = ((x & 0x00FF00FF) << 8) | ((x & 0xFF00FF00) >> 8)\n",
    "    x = ((x & 0x0000FFFF) << 16) | ((x & 0xFFFF0000) >> 16)\n",
    "    return x\n",
    "\n",
    "\n",
    "def showcrc(poly, start, reverse, xorval):\n",
    "    start = start & 0xffffffff\n",
    "    xorval = xorval & 0xffffffff\n",
    "    reverse = bool(reverse)\n",
    "    global counter\n",
    "    crc_func = crcmod.mkCrcFun(poly, start, reverse, xorval)\n",
    "    crc_res = crc_func(bytes(range(16)))\n",
    "    print(f'{counter:2}) 0x{crc_res:08X}     \\N{RIGHTWARDS ARROW}    crcmod.mkCrcFun(poly=0x{poly:08X}, initCrc=0x{start:08X}, rev={reverse}, xorOut=0x{xorval:08X})', end='')\n",
    "    if crc_res == lookfor:\n",
    "        print(f'  \\N{check mark}')\n",
    "    else:\n",
    "        print()\n",
    "    counter += 1\n",
    "\n",
    "\n",
    "def iterate(poly, startval = 0, xorval = 0):\n",
    "    showcrc(poly, startval, False, xorval)\n",
    "    showcrc(poly, startval, False, ~xorval)\n",
    "    showcrc(poly, startval, True, xorval)\n",
    "    showcrc(poly, startval, True, ~xorval)\n",
    "    showcrc(poly, ~startval, False, xorval)\n",
    "    showcrc(poly, ~startval, False, ~xorval)\n",
    "    showcrc(poly, ~startval, True, xorval)\n",
    "    showcrc(poly, ~startval, True, ~xorval)\n",
    "\n",
    "def iterate_both(poly, startval = 0, xorval = 0):\n",
    "    print(f'Polygon: 0x{POLY:08X}')\n",
    "    iterate(0x100000000 | POLY, startval, xorval)\n",
    "    print(f'Refelcted polygon: 0x{reverse_mask(POLY):08X}')\n",
    "    iterate(reverse_mask(POLY) | 0x100000000, startval, xorval)\n",
    "\n",
    "POLY = 0x04C11DB7\n",
    "lookfor = 0xCBC6DC44\n",
    "print(f'Looking for result: {lookfor} for data 0...15: {list(range(16))}')\n",
    "iterate_both(POLY, startval = 0x544F4F42)\n"
   ]
  }
 ],
 "metadata": {
  "kernelspec": {
   "display_name": "Python 3",
   "language": "python",
   "name": "python3"
  },
  "language_info": {
   "codemirror_mode": {
    "name": "ipython",
    "version": 3
   },
   "file_extension": ".py",
   "mimetype": "text/x-python",
   "name": "python",
   "nbconvert_exporter": "python",
   "pygments_lexer": "ipython3",
   "version": "3.7.0"
  }
 },
 "nbformat": 4,
 "nbformat_minor": 4
}
