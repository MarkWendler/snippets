{
 "cells": [
  {
   "cell_type": "markdown",
   "metadata": {},
   "source": [
    "## Python script to generate CRC for dsPIC33E flash\n",
    "\n",
    "### Summary\n",
    "The dsPIC uses 24bit (3bytes) wide instructions. The XC16 compiler generated HEX files are following INTEL byte standard and puts \"phantom\" 00 bytes to the 4th place. However the Microchip classB library CRC function *CLASSB_CRCFlashTest* does not calulate the phantom byte. (To save some calculation time.) Therefore most of the CRC calculators on the PC side just does not have proper configurability to give the same result as the ClassB library.\n",
    "\n",
    "The below script calculates the CRC according the Microchip ClassB library implementation.\n",
    "\n",
    "#### Readings:\n",
    "* Microchip ClassB: https://www.microchip.com/design-centers/home-appliance/class-b-safety-software\n",
    "* dsPIC33 architecture: https://microchipdeveloper.com/dsp0201:dspic-dsc-architecture-review\n",
    "* INTEL HEX format: https://en.wikipedia.org/wiki/Intel_HEX\n",
    "\n",
    "### Install dependencies\n",
    "First install crcmod if needed:\n",
    "* *pip install crcmod*\n",
    "* *pip install intelhex*\n",
    "### Contact\n",
    "mark.wendler@microchip.com"
   ]
  },
  {
   "cell_type": "markdown",
   "metadata": {},
   "source": [
    "Create CRC calculator function according to the default ClassB CRC calculation function. (Polynomal is 0x8005 by default in Microchip implementation)"
   ]
  },
  {
   "cell_type": "code",
   "execution_count": 2,
   "metadata": {},
   "outputs": [],
   "source": [
    "import crcmod\n",
    "crc16_func = crcmod.mkCrcFun(0x18005, rev=False, initCrc=0xFFFF, xorOut=0x0000)"
   ]
  },
  {
   "cell_type": "markdown",
   "metadata": {},
   "source": [
    "Just a short test to verify crccalc functionality"
   ]
  },
  {
   "cell_type": "code",
   "execution_count": 3,
   "metadata": {},
   "outputs": [
    {
     "data": {
      "text/plain": [
       "'0x83d1'"
      ]
     },
     "execution_count": 3,
     "metadata": {},
     "output_type": "execute_result"
    }
   ],
   "source": [
    "word24bitIn = bytearray((0xe0, 0x00 , 0x00, 0x32, 0x00, 0x02));\n",
    "\n",
    "result = crc16_func(word24bitIn);\n",
    "\n",
    "hex(result)"
   ]
  },
  {
   "cell_type": "markdown",
   "metadata": {},
   "source": [
    "Install intelHex if needed: pip install intelhex"
   ]
  },
  {
   "cell_type": "code",
   "execution_count": 4,
   "metadata": {},
   "outputs": [],
   "source": [
    "from intelhex import IntelHex16bit #Load intelHex\n",
    "ih = IntelHex16bit(\"input.hex\") #Open file"
   ]
  },
  {
   "cell_type": "markdown",
   "metadata": {},
   "source": [
    "Create a function to extract hex file and format the data as crc calc requires."
   ]
  },
  {
   "cell_type": "code",
   "execution_count": 5,
   "metadata": {},
   "outputs": [],
   "source": [
    "def ExtractHexData(baseAddr, length, intelHex):\n",
    "    \"\"\"Rearrange memory map from intelHex to byte array: [Upper,Higher,Lower,Upper,Higher,Lower] This format cen be used then for CRC calculation\n",
    "\n",
    "    Args:\n",
    "        baseAddr (int): Starting address to extract from hex file (dsPIC program counter address)\n",
    "        length   (int): The length address of the tested flash memory in program counter units\n",
    "        intelHex (IntelHex16bit): Extracted data from hex by the IntelHex module.\n",
    "    Returns:\n",
    "        bytearray: extraced byte array data, prepared for CRC calculation\n",
    "    \"\"\"    \n",
    "    assert (baseAddr % 2) == 0,\"Base address must be even. See dsPIC architecture program counter. See dsPIC architecture and classB lib CRC documentation.\"\n",
    "    assert (length % 2) == 0,\"Length must be specified as program counter's length. So must be multiple of 2. See dsPIC architecture and classB lib CRC documentation.\"\n",
    "\n",
    "    byteLength = length + length//2 #Convert dsPIC program counts to byte count (24bit)\n",
    "    print(\"ByteLength:\", byteLength)\n",
    "    crcInput = bytearray(byteLength) \n",
    "    byteAddr = 0;\n",
    "\n",
    "    for addr in range(length): # Convert data according to the ClassB CRC implementation\n",
    "\n",
    "        #check upper or higher,lower address [Upper,Higher,Lower => program word of dsPIC]\n",
    "        if (addr % 2) == 0: #even means Higher and lower\n",
    "            crcInput[byteAddr+1] = (intelHex[baseAddr + addr] >> 8 )& 0xFF;    #Get Higher\n",
    "            crcInput[byteAddr+2] = intelHex[baseAddr + addr] & 0xFF; #Get Lower\n",
    "\n",
    "            #print(\"Addr:\", hex(baseAddr+addr), \"Higher:\", crcInput[byteAddr+1], \"Lower:\", crcInput[byteAddr+2])\n",
    "\n",
    "        else: # odd addres mean Upper byte\n",
    "            crcInput[byteAddr] = intelHex[baseAddr + addr]; \n",
    "            #print(\"Addr:\", hex(baseAddr+addr), \"Upper:\", crcInput[byteAddr])\n",
    "            byteAddr = byteAddr+3 #increase byteAddress as this was the \n",
    "        \n",
    "    \n",
    "    return crcInput"
   ]
  },
  {
   "cell_type": "markdown",
   "metadata": {},
   "source": [
    "Finally calculate the CRC for the required range"
   ]
  },
  {
   "cell_type": "code",
   "execution_count": 9,
   "metadata": {},
   "outputs": [
    {
     "name": "stdout",
     "output_type": "stream",
     "text": [
      "ByteLength: 9\n",
      "CRC Result: 0xe8b0\n"
     ]
    }
   ],
   "source": [
    "crcInput = ExtractHexData(0x250,0x6,ih)\n",
    "crcResult = crc16_func(crcInput)\n",
    "print(\"CRC Result:\", hex(crcResult))"
   ]
  },
  {
   "cell_type": "code",
   "execution_count": null,
   "metadata": {},
   "outputs": [],
   "source": []
  }
 ],
 "metadata": {
  "kernelspec": {
   "display_name": "Python 3",
   "language": "python",
   "name": "python3"
  },
  "language_info": {
   "codemirror_mode": {
    "name": "ipython",
    "version": 3
   },
   "file_extension": ".py",
   "mimetype": "text/x-python",
   "name": "python",
   "nbconvert_exporter": "python",
   "pygments_lexer": "ipython3",
   "version": "3.7.0"
  }
 },
 "nbformat": 4,
 "nbformat_minor": 4
}
